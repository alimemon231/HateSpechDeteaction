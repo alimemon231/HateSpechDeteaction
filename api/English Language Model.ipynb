{
 "cells": [
  {
   "cell_type": "code",
   "execution_count": 1,
   "id": "4e51f234",
   "metadata": {},
   "outputs": [],
   "source": [
    "#load libraries\n",
    "import torch\n",
    "import torch.nn as nn\n",
    "import torch.optim as optim\n",
    "import pandas as pd\n",
    "from sklearn.model_selection import train_test_split\n",
    "from sklearn.feature_extraction.text import CountVectorizer\n",
    "from sklearn.preprocessing import LabelEncoder\n",
    "from torch.utils.data import DataLoader, TensorDataset\n"
   ]
  },
  {
   "cell_type": "code",
   "execution_count": 2,
   "id": "932a7885",
   "metadata": {},
   "outputs": [
    {
     "data": {
      "text/html": [
       "<div>\n",
       "<style scoped>\n",
       "    .dataframe tbody tr th:only-of-type {\n",
       "        vertical-align: middle;\n",
       "    }\n",
       "\n",
       "    .dataframe tbody tr th {\n",
       "        vertical-align: top;\n",
       "    }\n",
       "\n",
       "    .dataframe thead th {\n",
       "        text-align: right;\n",
       "    }\n",
       "</style>\n",
       "<table border=\"1\" class=\"dataframe\">\n",
       "  <thead>\n",
       "    <tr style=\"text-align: right;\">\n",
       "      <th></th>\n",
       "      <th>text</th>\n",
       "      <th>label</th>\n",
       "    </tr>\n",
       "  </thead>\n",
       "  <tbody>\n",
       "    <tr>\n",
       "      <th>0</th>\n",
       "      <td>You can go to auctomuckty and to drumnadrocit ...</td>\n",
       "      <td>Not Hate</td>\n",
       "    </tr>\n",
       "    <tr>\n",
       "      <th>1</th>\n",
       "      <td>Good luck. I wouldn't trust any women out ther...</td>\n",
       "      <td>Hate</td>\n",
       "    </tr>\n",
       "    <tr>\n",
       "      <th>2</th>\n",
       "      <td>what a pile of wank my cousin is</td>\n",
       "      <td>Not Hate</td>\n",
       "    </tr>\n",
       "    <tr>\n",
       "      <th>3</th>\n",
       "      <td>jews are Esau - direct quote</td>\n",
       "      <td>Not Hate</td>\n",
       "    </tr>\n",
       "    <tr>\n",
       "      <th>4</th>\n",
       "      <td>like what the actual fuck, it was so infuriati...</td>\n",
       "      <td>Not Hate</td>\n",
       "    </tr>\n",
       "    <tr>\n",
       "      <th>...</th>\n",
       "      <td>...</td>\n",
       "      <td>...</td>\n",
       "    </tr>\n",
       "    <tr>\n",
       "      <th>11995</th>\n",
       "      <td>Very interesting paper. Although I was expecti...</td>\n",
       "      <td>Not Hate</td>\n",
       "    </tr>\n",
       "    <tr>\n",
       "      <th>11996</th>\n",
       "      <td>As an Arab here on Reddit, I'm really scared o...</td>\n",
       "      <td>Not Hate</td>\n",
       "    </tr>\n",
       "    <tr>\n",
       "      <th>11997</th>\n",
       "      <td>I really hate our area since dirty fucking pak...</td>\n",
       "      <td>Hate</td>\n",
       "    </tr>\n",
       "    <tr>\n",
       "      <th>11998</th>\n",
       "      <td>I wish this incompetent cunt would just drop d...</td>\n",
       "      <td>Not Hate</td>\n",
       "    </tr>\n",
       "    <tr>\n",
       "      <th>11999</th>\n",
       "      <td>I wonder if the prats who stand on the cliffs ...</td>\n",
       "      <td>Hate</td>\n",
       "    </tr>\n",
       "  </tbody>\n",
       "</table>\n",
       "<p>12000 rows × 2 columns</p>\n",
       "</div>"
      ],
      "text/plain": [
       "                                                    text     label\n",
       "0      You can go to auctomuckty and to drumnadrocit ...  Not Hate\n",
       "1      Good luck. I wouldn't trust any women out ther...      Hate\n",
       "2                       what a pile of wank my cousin is  Not Hate\n",
       "3                           jews are Esau - direct quote  Not Hate\n",
       "4      like what the actual fuck, it was so infuriati...  Not Hate\n",
       "...                                                  ...       ...\n",
       "11995  Very interesting paper. Although I was expecti...  Not Hate\n",
       "11996  As an Arab here on Reddit, I'm really scared o...  Not Hate\n",
       "11997  I really hate our area since dirty fucking pak...      Hate\n",
       "11998  I wish this incompetent cunt would just drop d...  Not Hate\n",
       "11999  I wonder if the prats who stand on the cliffs ...      Hate\n",
       "\n",
       "[12000 rows x 2 columns]"
      ]
     },
     "execution_count": 2,
     "metadata": {},
     "output_type": "execute_result"
    }
   ],
   "source": [
    "# Load  dataset\n",
    "data = pd.read_csv('EnglishFinal.csv')  # Replace 'YourDataset.csv' with your dataset file\n",
    "data"
   ]
  },
  {
   "cell_type": "code",
   "execution_count": 3,
   "id": "b0e485b2",
   "metadata": {},
   "outputs": [],
   "source": [
    "# Split data into features (text) and labels\n",
    "X = data['text']\n",
    "y = data['label']\n"
   ]
  },
  {
   "cell_type": "code",
   "execution_count": 4,
   "id": "c804da06",
   "metadata": {},
   "outputs": [],
   "source": [
    "# Split data into training and testing sets\n",
    "X_train, X_test, y_train, y_test = train_test_split(X, y, test_size=0.3, random_state=42)"
   ]
  },
  {
   "cell_type": "code",
   "execution_count": 5,
   "id": "8d8dc5a9",
   "metadata": {},
   "outputs": [],
   "source": [
    "# Count Vectorization\n",
    "vectorizer = CountVectorizer()\n",
    "X_train_vec = vectorizer.fit_transform(X_train)\n",
    "X_test_vec = vectorizer.transform(X_test)\n",
    "\n",
    "# Initialize the label encoder\n",
    "label_encoder = LabelEncoder()\n",
    "\n",
    "# Fit the label encoder on your string labels and transform them to numerical labels\n",
    "y_train_encoded = label_encoder.fit_transform(y_train)\n",
    "y_test_encoded = label_encoder.transform(y_test)\n"
   ]
  },
  {
   "cell_type": "code",
   "execution_count": 6,
   "id": "c656e7eb",
   "metadata": {},
   "outputs": [],
   "source": [
    "# Create PyTorch tensors for input data and labels\n",
    "X_train_tensor = torch.tensor(X_train_vec.toarray(), dtype=torch.float32)\n",
    "y_train_tensor = torch.tensor(y_train_encoded, dtype=torch.long)\n",
    "X_test_tensor = torch.tensor(X_test_vec.toarray(), dtype=torch.float32)\n",
    "y_test_tensor = torch.tensor(y_test_encoded, dtype=torch.long)"
   ]
  },
  {
   "cell_type": "code",
   "execution_count": 7,
   "id": "ab0feec5",
   "metadata": {},
   "outputs": [],
   "source": [
    "# Define a deep feedforward NLP model\n",
    "class DeepNLPModel(nn.Module):\n",
    "    def __init__(self, input_size, hidden_size, num_hidden_layers, output_size):\n",
    "        super(DeepNLPModel, self).__init__()\n",
    "        # Define your model architecture here\n",
    "        self.fc_layers = nn.ModuleList([nn.Linear(input_size, hidden_size)])\n",
    "        self.relu = nn.ReLU()\n",
    "        for _ in range(num_hidden_layers - 1):\n",
    "            self.fc_layers.append(nn.Linear(hidden_size, hidden_size))\n",
    "        self.output_layer = nn.Linear(hidden_size, output_size)\n",
    "\n",
    "    def forward(self, x):\n",
    "        for layer in self.fc_layers:\n",
    "            x = self.relu(layer(x))\n",
    "        out = self.output_layer(x)\n",
    "        return out"
   ]
  },
  {
   "cell_type": "code",
   "execution_count": 8,
   "id": "673624c8",
   "metadata": {},
   "outputs": [],
   "source": [
    "# Initialize the deep NLP model\n",
    "input_size = X_train_vec.shape[1]\n",
    "hidden_size = 128  # Adjust as needed\n",
    "num_hidden_layers = 2  # Number of hidden layers (adjust as needed)\n",
    "output_size = len(label_encoder.classes_)  # Number of unique labels\n",
    "\n",
    "model = DeepNLPModel(input_size, hidden_size, num_hidden_layers, output_size)\n",
    "\n"
   ]
  },
  {
   "cell_type": "code",
   "execution_count": 9,
   "id": "9db82f0b",
   "metadata": {},
   "outputs": [],
   "source": [
    "# Define loss function and optimizer\n",
    "criterion = nn.CrossEntropyLoss()\n",
    "optimizer = optim.Adam(model.parameters(), lr=0.001)\n"
   ]
  },
  {
   "cell_type": "code",
   "execution_count": 10,
   "id": "ad0b7c71",
   "metadata": {},
   "outputs": [],
   "source": [
    "# Create DataLoader for training\n",
    "train_dataset = TensorDataset(X_train_tensor, y_train_tensor)\n",
    "train_loader = DataLoader(train_dataset, batch_size=32, shuffle=True)\n"
   ]
  },
  {
   "cell_type": "code",
   "execution_count": 11,
   "id": "396142b7",
   "metadata": {},
   "outputs": [
    {
     "name": "stdout",
     "output_type": "stream",
     "text": [
      "Epoch [1/20], Loss: 0.5213\n",
      "Epoch [2/20], Loss: 0.3315\n",
      "Epoch [3/20], Loss: 0.2826\n",
      "Epoch [4/20], Loss: 0.0513\n",
      "Epoch [5/20], Loss: 0.0122\n",
      "Epoch [6/20], Loss: 0.0362\n",
      "Epoch [7/20], Loss: 0.0549\n",
      "Epoch [8/20], Loss: 0.0500\n",
      "Epoch [9/20], Loss: 0.0030\n",
      "Epoch [10/20], Loss: 0.0078\n",
      "Epoch [11/20], Loss: 0.0728\n",
      "Epoch [12/20], Loss: 0.0179\n",
      "Epoch [13/20], Loss: 0.1063\n",
      "Epoch [14/20], Loss: 0.0225\n",
      "Epoch [15/20], Loss: 0.0498\n",
      "Epoch [16/20], Loss: 0.0003\n",
      "Epoch [17/20], Loss: 0.0003\n",
      "Epoch [18/20], Loss: 0.0098\n",
      "Epoch [19/20], Loss: 0.0105\n",
      "Epoch [20/20], Loss: 0.0001\n"
     ]
    }
   ],
   "source": [
    "# Training loop\n",
    "num_epochs = 20  # Adjust as needed\n",
    "for epoch in range(num_epochs):\n",
    "    model.train()\n",
    "    for inputs, labels in train_loader:\n",
    "        optimizer.zero_grad()\n",
    "        outputs = model(inputs)\n",
    "        loss = criterion(outputs, labels)\n",
    "        loss.backward()\n",
    "        optimizer.step()\n",
    "        \n",
    "    print(f'Epoch [{epoch + 1}/{num_epochs}], Loss: {loss.item():.4f}')"
   ]
  },
  {
   "cell_type": "code",
   "execution_count": 12,
   "id": "25accb44",
   "metadata": {},
   "outputs": [
    {
     "name": "stdout",
     "output_type": "stream",
     "text": [
      "Test Accuracy: 61.86%\n"
     ]
    }
   ],
   "source": [
    "# Evaluate the model on the test set\n",
    "model.eval()\n",
    "with torch.no_grad():\n",
    "    test_outputs = model(X_test_tensor)\n",
    "    _, predicted = torch.max(test_outputs, 1)\n",
    "    correct = (predicted == y_test_tensor).sum().item()\n",
    "    total = len(y_test_tensor)\n",
    "    accuracy = correct / total\n",
    "\n",
    "print(f'Test Accuracy: {accuracy * 100:.2f}%')"
   ]
  },
  {
   "cell_type": "code",
   "execution_count": 13,
   "id": "d9ceb203",
   "metadata": {},
   "outputs": [],
   "source": [
    "import joblib"
   ]
  },
  {
   "cell_type": "code",
   "execution_count": 14,
   "id": "63d18e6e",
   "metadata": {},
   "outputs": [],
   "source": [
    "joblib.dump(vectorizer , \"English_Vectorizer.pkl\")\n",
    "joblib.dump(label_encoder, \"English_Label_Encoder.pkl\")\n",
    "torch.save(model.state_dict , \"English_Language_Model.pth\")"
   ]
  },
  {
   "cell_type": "code",
   "execution_count": null,
   "id": "1c4b85b0",
   "metadata": {},
   "outputs": [],
   "source": []
  }
 ],
 "metadata": {
  "kernelspec": {
   "display_name": "Python 3 (ipykernel)",
   "language": "python",
   "name": "python3"
  },
  "language_info": {
   "codemirror_mode": {
    "name": "ipython",
    "version": 3
   },
   "file_extension": ".py",
   "mimetype": "text/x-python",
   "name": "python",
   "nbconvert_exporter": "python",
   "pygments_lexer": "ipython3",
   "version": "3.11.5"
  }
 },
 "nbformat": 4,
 "nbformat_minor": 5
}
